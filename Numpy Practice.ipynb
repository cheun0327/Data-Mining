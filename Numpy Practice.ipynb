{
 "cells": [
  {
   "cell_type": "markdown",
   "metadata": {},
   "source": [
    "## Creating ndarray\n",
    "- numpy.array is just a convenience function to create an ndarray\n",
    "- numpy.ndarray is a class"
   ]
  },
  {
   "cell_type": "code",
   "execution_count": 1,
   "metadata": {},
   "outputs": [],
   "source": [
    "import numpy"
   ]
  },
  {
   "cell_type": "code",
   "execution_count": 6,
   "metadata": {},
   "outputs": [
    {
     "name": "stdout",
     "output_type": "stream",
     "text": [
      "[1. 2. 3. 4. 5.]\n",
      "#Dimensions =  1\n",
      "Dimension =  (5,)\n",
      "Size =  5\n",
      "Array type =  float64\n",
      "[[1 2]\n",
      " [3 4]\n",
      " [5 6]]\n",
      "#Dimensions =  2\n",
      "Dimension =  (3, 2)\n",
      "Size =  6\n",
      "Array type =  int32\n"
     ]
    }
   ],
   "source": [
    "import numpy as np\n",
    "\n",
    "oneDim = np.array([1.0, 2, 3, 4, 5])\n",
    "print(oneDim)\n",
    "print(\"#Dimensions = \", oneDim.ndim)\n",
    "print(\"Dimension = \",oneDim.shape)\n",
    "print(\"Size = \", oneDim.size)\n",
    "print(\"Array type = \", oneDim.dtype)\n",
    "\n",
    "twoDim = np.array([[1,2],[3,4],[5,6]])\n",
    "print(twoDim)\n",
    "print(\"#Dimensions = \", twoDim.ndim)\n",
    "print(\"Dimension = \",twoDim.shape)\n",
    "print(\"Size = \", twoDim.size)\n",
    "print(\"Array type = \", twoDim.dtype)"
   ]
  },
  {
   "cell_type": "markdown",
   "metadata": {},
   "source": [
    "numpy 배열은 한가지 타입으로 구성"
   ]
  },
  {
   "cell_type": "code",
   "execution_count": 7,
   "metadata": {},
   "outputs": [
    {
     "name": "stdout",
     "output_type": "stream",
     "text": [
      "[['1' 'a' '3.0']\n",
      " ['2' 'b' '3.5']]\n",
      "2\n",
      "(2, 3)\n",
      "6\n",
      "<U11\n"
     ]
    }
   ],
   "source": [
    "arrFormTuple = np.array([(1, 'a', 3.0), (2, 'b', 3.5)])\n",
    "print(arrFormTuple)\n",
    "print(arrFormTuple.ndim)\n",
    "print(arrFormTuple.shape)\n",
    "print(arrFormTuple.size)\n",
    "print(arrFormTuple.dtype)"
   ]
  },
  {
   "cell_type": "code",
   "execution_count": 10,
   "metadata": {},
   "outputs": [
    {
     "name": "stdout",
     "output_type": "stream",
     "text": [
      "(1,)\n",
      "(2,)\n",
      "(2, 1)\n",
      "(1, 2, 3)\n",
      "(1, 1, 1, 1, 0)\n"
     ]
    }
   ],
   "source": [
    "print(np.array([1]).shape)\n",
    "print(np.array([1,2]).shape)\n",
    "print(np.array([[1],[2]]).shape)\n",
    "print(np.array([[[1,2,3],[4,5,6]]]).shape)\n",
    "print(np.array([[[[[]]]]]).shape)"
   ]
  },
  {
   "cell_type": "code",
   "execution_count": 16,
   "metadata": {},
   "outputs": [
    {
     "data": {
      "text/plain": [
       "True"
      ]
     },
     "execution_count": 16,
     "metadata": {},
     "output_type": "execute_result"
    }
   ],
   "source": [
    "(1,2) == (1,2,)"
   ]
  },
  {
   "cell_type": "code",
   "execution_count": 25,
   "metadata": {},
   "outputs": [
    {
     "name": "stdout",
     "output_type": "stream",
     "text": [
      "[0.44741658 0.71647706 0.13143828 0.62394427 0.67422952]\n",
      "[-1.0176896   1.15587511 -0.34051323 -2.1024969   0.90394426]\n",
      "[-10  -8  -6  -4  -2   0   2   4   6   8]\n",
      "[0, 1, 2, 3, 4, 5, 6, 7, 8, 9]\n",
      "[[ 0  1  2  3]\n",
      " [ 4  5  6  7]\n",
      " [ 8  9 10 11]]\n",
      "[0.         0.11111111 0.22222222 0.33333333 0.44444444 0.55555556\n",
      " 0.66666667 0.77777778 0.88888889 1.        ]\n",
      "[0.         0.44444444 0.88888889 1.33333333 1.77777778 2.22222222\n",
      " 2.66666667 3.11111111 3.55555556 4.        ]\n",
      "[1.e-03 1.e-02 1.e-01 1.e+00 1.e+01 1.e+02 1.e+03]\n"
     ]
    }
   ],
   "source": [
    "print(np.random.rand(5))\n",
    "print(np.random.randn(5))\n",
    "print(np.arange(-10, 10, 2)) # range랑 비슷한데 list반환이 아니라 ndarray반환\n",
    "print([i for i in range(10)])\n",
    "print(np.arange(12).reshape(3,4))\n",
    "print(np.linspace(0,1,10)) #0부터 1사이를 10등분한다.\n",
    "print(np.linspace(0, 4,10))\n",
    "print(np.logspace(-3,3,7))"
   ]
  },
  {
   "cell_type": "code",
   "execution_count": 28,
   "metadata": {},
   "outputs": [
    {
     "name": "stdout",
     "output_type": "stream",
     "text": [
      "[[0. 0. 0.]\n",
      " [0. 0. 0.]]\n",
      "[0.]\n",
      "[[1. 1.]\n",
      " [1. 1.]\n",
      " [1. 1.]]\n",
      "[[1. 0. 0.]\n",
      " [0. 1. 0.]\n",
      " [0. 0. 1.]]\n"
     ]
    }
   ],
   "source": [
    "print(np.zeros((2,3)))\n",
    "print(np.zeros((1)))\n",
    "print(np.ones((3,2)))\n",
    "print(np.eye(3))"
   ]
  },
  {
   "cell_type": "code",
   "execution_count": 29,
   "metadata": {},
   "outputs": [
    {
     "name": "stdout",
     "output_type": "stream",
     "text": [
      "[1 2 3 4 5]\n",
      "[0 1 2 3 4]\n",
      "[0 1 1 2 2]\n",
      "[0.5 1.  1.5 2.  2.5]\n",
      "[1 0 1 0 1]\n",
      "[1.         0.5        0.33333333 0.25       0.2       ]\n"
     ]
    }
   ],
   "source": [
    "x=np.array([1,2,3,4,5])\n",
    "\n",
    "print(x*1)\n",
    "print(x-1)\n",
    "print(x//2) # 몫 : 정수\n",
    "print(x/2)  # 몫 : 실수\n",
    "print(x%2)\n",
    "print(1/x)"
   ]
  },
  {
   "cell_type": "code",
   "execution_count": 30,
   "metadata": {},
   "outputs": [
    {
     "name": "stdout",
     "output_type": "stream",
     "text": [
      "[ 3  6  9 12 15]\n",
      "[1 2 3 4 5]\n",
      "[ 2  8 18 32 50]\n",
      "[     2     16    216   4096 100000]\n",
      "[2. 2. 2. 2. 2.]\n",
      "[2 2 2 2 2]\n"
     ]
    }
   ],
   "source": [
    "x = np.array([2,4,6,8,10])\n",
    "y = np.array([1,2,3,4,5])\n",
    "\n",
    "print(x+y)\n",
    "print(x-y)\n",
    "print(x*y)\n",
    "print(x**y)\n",
    "print(x/y)\n",
    "print(x//y)"
   ]
  },
  {
   "cell_type": "code",
   "execution_count": 31,
   "metadata": {},
   "outputs": [
    {
     "name": "stdout",
     "output_type": "stream",
     "text": [
      "[-5 -4 -3 -2 -1  0  1  2  3  4]\n",
      "[-2 -1]\n",
      "[1000 1000]\n",
      "[  -5   -4   -3 1000 1000    0    1    2    3    4]\n",
      "[1000 1000]\n",
      "[500 500]\n",
      "[  -5   -4   -3 1000 1000    0    1    2    3    4]\n"
     ]
    }
   ],
   "source": [
    "x=np.arange(-5,5)\n",
    "print(x)\n",
    "\n",
    "y=x[3:5] # indexing\n",
    "print(y)\n",
    "y[:] = 1000 # x의 값도 변한다\n",
    "print(y)\n",
    "print(x)\n",
    "\n",
    "z=x[3:5].copy() # copying\n",
    "print(z)\n",
    "z[:]=500\n",
    "print(z)\n",
    "print(x) # x값 불변"
   ]
  },
  {
   "cell_type": "code",
   "execution_count": 32,
   "metadata": {},
   "outputs": [
    {
     "name": "stdout",
     "output_type": "stream",
     "text": [
      "[-5, -4, -3, -2, -1, 0, 1, 2, 3, 4]\n",
      "[-2, -1]\n",
      "[-2, 1000]\n",
      "[-5, -4, -3, -2, -1, 0, 1, 2, 3, 4]\n"
     ]
    }
   ],
   "source": [
    "x= list(range(-5, 5))\n",
    "print(x)\n",
    "\n",
    "y = x[3:5] # index 3,4\n",
    "print(y)\n",
    "y[1]=1000\n",
    "print(y)\n",
    "print(x)"
   ]
  },
  {
   "cell_type": "code",
   "execution_count": 33,
   "metadata": {},
   "outputs": [
    {
     "name": "stdout",
     "output_type": "stream",
     "text": [
      "[[1, 2, 3, 4], [5, 6, 7, 8], [9, 10, 11, 12]]\n",
      "[9, 10, 11, 12]\n",
      "[9, 10, 11, 12]\n",
      "=====================\n",
      "[[ 1  2  3  4]\n",
      " [ 5  6  7  8]\n",
      " [ 9 10 11 12]]\n",
      "[ 9 10 11 12]\n",
      "[ 9 10 11 12]\n",
      "[ 9 10 11 12]\n",
      "[ 3  7 11]\n",
      "[[3 4]\n",
      " [7 8]]\n",
      "[[ 3  4]\n",
      " [11 12]]\n"
     ]
    }
   ],
   "source": [
    "my2dlist = [[1,2,3,4],[5,6,7,8],[9,10,11,12]]\n",
    "print(my2dlist)\n",
    "print(my2dlist[2]) #9.10.11.12\n",
    "print(my2dlist[:][2]) # 각원소의 2번째 원소에 접근 불가\n",
    "print(\"=====================\")\n",
    "\n",
    "my2darr = np.array(my2dlist) #list를 numpy array로\n",
    "print(my2darr)\n",
    "print(my2darr[2][:])\n",
    "print(my2darr[2,:])\n",
    "print(my2darr[:][2])\n",
    "print(my2darr[:,2])\n",
    "print(my2darr[:2,2:]) \n",
    "print(my2darr[::2,2:])"
   ]
  },
  {
   "cell_type": "markdown",
   "metadata": {},
   "source": [
    "# It's indexing, not copying!"
   ]
  },
  {
   "cell_type": "code",
   "execution_count": 34,
   "metadata": {},
   "outputs": [
    {
     "name": "stdout",
     "output_type": "stream",
     "text": [
      "[[ 1  2  3  4]\n",
      " [ 5  6  7  8]\n",
      " [ 9 10 11 12]]\n",
      "\n",
      "[[ 3  4]\n",
      " [11 12]]\n",
      "<class 'numpy.ndarray'>\n",
      "\n",
      "[[   1    2 1000 1000]\n",
      " [   5    6    7    8]\n",
      " [   9   10 1000 1000]]\n",
      "\n",
      "[[   1    2 2000 1000]\n",
      " [   5    6    7    8]\n",
      " [   9   10 1000 1000]]\n"
     ]
    }
   ],
   "source": [
    "my2darr = np.array([[1,2,3,4],[5,6,7,8],[9,10,11,12]])\n",
    "print(my2darr)\n",
    "print()\n",
    "sliced = my2darr[::2,2:] # [3,4],[11,12]\n",
    "print(sliced)\n",
    "print(type(sliced))\n",
    "\n",
    "print()\n",
    "sliced[:,:] = 1000\n",
    "print(my2darr) # change\n",
    "\n",
    "print()\n",
    "sliced[0,0]=2000\n",
    "print(my2darr)"
   ]
  },
  {
   "cell_type": "markdown",
   "metadata": {},
   "source": [
    "### ndarray also supports boolean indexing(also called masking)"
   ]
  },
  {
   "cell_type": "code",
   "execution_count": 35,
   "metadata": {},
   "outputs": [
    {
     "name": "stdout",
     "output_type": "stream",
     "text": [
      "[2 3]\n",
      "2\n",
      "\n",
      "[1 3]\n",
      "\n",
      "[3 2]\n",
      "[3 2 2 2 1]\n",
      "\n",
      "[0 0 0]\n"
     ]
    }
   ],
   "source": [
    "x = np.array([1,2,3])\n",
    "print(x[1:])\n",
    "print(x[1:][0])\n",
    "\n",
    "print()\n",
    "print(x[[True, False, True]]) # boolean indexing\n",
    "\n",
    "print()\n",
    "print(x[[2,1]])  # integer array indexing\n",
    "print(x[[2,1,1,1,0]])  # integer array indexing\n",
    "\n",
    "print()\n",
    "x[[2,1,1,1,0]]=0\n",
    "print(x)"
   ]
  },
  {
   "cell_type": "code",
   "execution_count": 39,
   "metadata": {},
   "outputs": [
    {
     "name": "stdout",
     "output_type": "stream",
     "text": [
      "[[False False False False False False False]\n",
      " [False False False False False False False]\n",
      " [False False False False False False False]\n",
      " [ True  True  True  True  True  True  True]\n",
      " [ True  True  True  True  True  True  True]]\n",
      "\n",
      "[21 22 23 24 25 26 27 28 29 30 31 32 33 34]\n",
      "\n",
      "[1000 1000 1000   24   25   26   27   28   29   30   31   32   33   34]\n",
      "[[ 0  1  2  3  4  5  6]\n",
      " [ 7  8  9 10 11 12 13]\n",
      " [14 15 16 17 18 19 20]\n",
      " [21 22 23 24 25 26 27]\n",
      " [28 29 30 31 32 33 34]]\n"
     ]
    }
   ],
   "source": [
    "y=np.arange(35).reshape(5,7)\n",
    "b=y>20\n",
    "print(b)\n",
    "\n",
    "print()\n",
    "t=y[b]\n",
    "print(t)\n",
    "\n",
    "print()\n",
    "t[:3]=1000\n",
    "print(t)\n",
    "print(y)"
   ]
  },
  {
   "cell_type": "code",
   "execution_count": 43,
   "metadata": {},
   "outputs": [
    {
     "name": "stdout",
     "output_type": "stream",
     "text": [
      "[[ 0  1  2  3  4  5  6]\n",
      " [ 7  8  9 10 11 12 13]\n",
      " [14 15 16 17 18 19 20]\n",
      " [21 22 23 24 25 26 27]\n",
      " [28 29 30 31 32 33 34]]\n"
     ]
    }
   ],
   "source": [
    "M = np.arange(35).reshape(5,7)\n",
    "M\n",
    "print(M)"
   ]
  },
  {
   "cell_type": "code",
   "execution_count": 44,
   "metadata": {},
   "outputs": [
    {
     "name": "stdout",
     "output_type": "stream",
     "text": [
      "[[ 0  1  0  3  0  5  0]\n",
      " [ 7  0  9  0 11  0 13]\n",
      " [ 0 15  0 17  0 19  0]\n",
      " [21  0 23  0 25  0 27]\n",
      " [ 0 29  0 31  0 33  0]]\n"
     ]
    }
   ],
   "source": [
    "M[M%2==0]=0\n",
    "print(M)"
   ]
  },
  {
   "cell_type": "code",
   "execution_count": 46,
   "metadata": {},
   "outputs": [
    {
     "data": {
      "text/plain": [
       "array([[  0,  -1,   0,  -3,   0,  -5,   0],\n",
       "       [ -7,   0,  -9,   0, -11,   0, -13],\n",
       "       [  0, -15,   0, -17,   0, -19,   0],\n",
       "       [-21,   0, -23,   0, -25,   0, -27],\n",
       "       [  0, -29,   0, -31,   0, -33,   0]])"
      ]
     },
     "execution_count": 46,
     "metadata": {},
     "output_type": "execute_result"
    }
   ],
   "source": [
    "M[M%2==1] = -M[M%2==1]\n",
    "M"
   ]
  },
  {
   "cell_type": "code",
   "execution_count": 47,
   "metadata": {},
   "outputs": [
    {
     "data": {
      "text/plain": [
       "array([[ 0,  1,  0,  3,  0,  5,  0],\n",
       "       [ 7,  0,  9,  0, 11,  0, 13],\n",
       "       [ 0, 15,  0, 17,  0, 19,  0],\n",
       "       [21,  0, 23,  0, 25,  0, 27],\n",
       "       [ 0, 29,  0, 31,  0, 33,  0]])"
      ]
     },
     "execution_count": 47,
     "metadata": {},
     "output_type": "execute_result"
    }
   ],
   "source": [
    "np.where(M%2==0, M, -M) # M중에서 조건 만족하는 애들은 -M"
   ]
  },
  {
   "cell_type": "markdown",
   "metadata": {},
   "source": [
    "#### integer array indexing"
   ]
  },
  {
   "cell_type": "code",
   "execution_count": 55,
   "metadata": {},
   "outputs": [
    {
     "name": "stdout",
     "output_type": "stream",
     "text": [
      "[[ 1  2  3]\n",
      " [ 4  5  6]\n",
      " [ 7  8  9]\n",
      " [10 11 12]]\n",
      "[[ 7  8  9]\n",
      " [ 4  5  6]\n",
      " [ 1  2  3]\n",
      " [10 11 12]]\n",
      "[ 1  3  4  8 12]\n"
     ]
    }
   ],
   "source": [
    "my2darr = np.arange(1,13,1).reshape(4,3)\n",
    "print(my2darr)\n",
    "\n",
    "indices = [2,1,0,3]\n",
    "print(my2darr[indices,:])\n",
    "\n",
    "rowIndex= [0,0,1,2,3]\n",
    "columnIndex = [0,2,0,1,2]\n",
    "print(my2darr[rowIndex,columnIndex])"
   ]
  },
  {
   "cell_type": "markdown",
   "metadata": {},
   "source": [
    "### numpy arithmetic and statistical functions"
   ]
  },
  {
   "cell_type": "code",
   "execution_count": 57,
   "metadata": {},
   "outputs": [
    {
     "name": "stdout",
     "output_type": "stream",
     "text": [
      "[-1.4  0.4 -3.2  2.5  3.4]\n",
      "\n",
      "[1.4 0.4 3.2 2.5 3.4]\n",
      "[1.18321596 0.63245553 1.78885438 1.58113883 1.84390889]\n",
      "[-1.  1. -1.  1.  1.]\n",
      "[ 0.24659696  1.4918247   0.0407622  12.18249396 29.96410005]\n",
      "[-3.2 -1.4  0.4  2.5  3.4]\n",
      "[-1.4  0.4 -3.2  2.5  3.4]\n"
     ]
    }
   ],
   "source": [
    "y = np.array([-1.4, 0.4, -3.2, 2.5, 3.4])\n",
    "print(y)\n",
    "print()\n",
    "\n",
    "print(np.abs(y))\n",
    "print(np.sqrt(np.abs(y)))\n",
    "print(np.sign(y))\n",
    "print(np.exp(y))  #exponentiation : e^y\n",
    "print(np.sort(y))\n",
    "print(y)"
   ]
  },
  {
   "cell_type": "code",
   "execution_count": 58,
   "metadata": {},
   "outputs": [
    {
     "name": "stdout",
     "output_type": "stream",
     "text": [
      "[-2 -1  0  1  2]\n",
      "[-0.06133807  1.37866752 -0.0683584  -0.11663734 -1.31514092]\n",
      "[-2.06133807  0.37866752 -0.0683584   0.88336266  0.68485908]\n",
      "[-1.93866193 -2.37866752  0.0683584   1.11663734  3.31514092]\n",
      "[ 0.12267614 -1.37866752 -0.         -0.11663734 -2.63028184]\n",
      "[32.60617833 -0.72533804 -0.         -8.5735837  -1.52074958]\n",
      "[-0.06133807  1.37866752  0.          1.          2.        ]\n"
     ]
    }
   ],
   "source": [
    "x=np.arange(-2,3)\n",
    "y=np.random.randn(5)\n",
    "print(x)\n",
    "print(y)\n",
    "\n",
    "# element-wise\n",
    "print(np.add(x,y))\n",
    "print(np.subtract(x,y))\n",
    "print(np.multiply(x,y))\n",
    "print(np.divide(x,y))\n",
    "print(np.maximum(x,y))"
   ]
  },
  {
   "cell_type": "code",
   "execution_count": 59,
   "metadata": {},
   "outputs": [
    {
     "name": "stdout",
     "output_type": "stream",
     "text": [
      "[-3.2 -1.4  0.4  2.5  3.4]\n",
      "Min =  -3.2\n",
      "Max =  3.4\n",
      "average =  0.34000000000000014\n",
      "std deviation =  2.432776191925595\n",
      "sum =  1.7000000000000006\n"
     ]
    }
   ],
   "source": [
    "y = np.array([-3.2,-1.4,0.4,2.5,3.4])\n",
    "print(y)\n",
    "\n",
    "print(\"Min = \", np.min(y))\n",
    "print(\"Max = \", np.max(y))\n",
    "print(\"average = \", np.mean(y))\n",
    "print(\"std deviation = \", np.std(y))\n",
    "print(\"sum = \", np.sum(y))"
   ]
  },
  {
   "cell_type": "code",
   "execution_count": 61,
   "metadata": {},
   "outputs": [
    {
     "name": "stdout",
     "output_type": "stream",
     "text": [
      "[[ 0  1  2  3  4]\n",
      " [ 5  6  7  8  9]\n",
      " [10 11 12 13 14]\n",
      " [15 16 17 18 19]\n",
      " [20 21 22 23 24]]\n",
      "[ 1  3  5  7  9 11 13 15 17 19 21 23]\n",
      "[[4 0]\n",
      " [4 1]\n",
      " [4 2]\n",
      " [4 3]\n",
      " [4 4]]\n",
      "[[ 0  1  0  3  0]\n",
      " [ 5  0  7  0  9]\n",
      " [ 0 11  0 13  0]\n",
      " [15  0 17  0 19]\n",
      " [ 0 21  0 23  0]]\n"
     ]
    }
   ],
   "source": [
    "M = np.arange(25).reshape(5,5)\n",
    "print(M)\n",
    "print(M[M%2==1])\n",
    "print(np.argwhere(M >= 20))\n",
    "print(np.where(M%2 == 1, M, 0))"
   ]
  },
  {
   "cell_type": "markdown",
   "metadata": {},
   "source": [
    "## New axis\n",
    "- used to increase the dimension of the existing array by one more dimension\n",
    "- shape change, for example: nX(newaxis)Xm -> nX1Xm"
   ]
  },
  {
   "cell_type": "code",
   "execution_count": 64,
   "metadata": {},
   "outputs": [
    {
     "name": "stdout",
     "output_type": "stream",
     "text": [
      "(3,)\n",
      "(3, 1)\n",
      "(1, 3)\n"
     ]
    }
   ],
   "source": [
    "t= np.array([1,2,3])\n",
    "print(t.shape)\n",
    "x = t[:,np.newaxis]  # 3*1\n",
    "print(x.shape)\n",
    "y=t[np.newaxis, :]  #1*3\n",
    "print(y.shape)"
   ]
  },
  {
   "cell_type": "code",
   "execution_count": 65,
   "metadata": {},
   "outputs": [
    {
     "name": "stdout",
     "output_type": "stream",
     "text": [
      "[[1]\n",
      " [2]\n",
      " [3]]\n",
      "[[1 2 3]]\n",
      "[1 2 3]\n"
     ]
    }
   ],
   "source": [
    "print(x)\n",
    "print(y)\n",
    "print(t)"
   ]
  },
  {
   "cell_type": "markdown",
   "metadata": {},
   "source": [
    "### Axis가 맞지 않으면 맞춰준다 : Broadcasting"
   ]
  },
  {
   "cell_type": "code",
   "execution_count": 66,
   "metadata": {},
   "outputs": [
    {
     "data": {
      "text/plain": [
       "array([[2, 3, 4],\n",
       "       [3, 4, 5],\n",
       "       [4, 5, 6]])"
      ]
     },
     "execution_count": 66,
     "metadata": {},
     "output_type": "execute_result"
    }
   ],
   "source": [
    "x+y\n",
    "# shape를 맞춰준다.\n",
    "# x\n",
    "# [[1,1,1],[2,2,2],[3,3,3]]\n",
    "# y\n",
    "# [[1,2,3],[1,2,3],[1,2,3]]\n",
    "print(x+y)"
   ]
  },
  {
   "cell_type": "code",
   "execution_count": 68,
   "metadata": {},
   "outputs": [
    {
     "name": "stdout",
     "output_type": "stream",
     "text": [
      "[[1 2 3]\n",
      " [4 5 6]]\n",
      "\n",
      "(2, 3, 1)\n",
      "[[[1]\n",
      "  [2]\n",
      "  [3]]\n",
      "\n",
      " [[4]\n",
      "  [5]\n",
      "  [6]]]\n",
      "\n",
      "(2, 1, 3)\n",
      "[[[1 2 3]]\n",
      "\n",
      " [[4 5 6]]]\n",
      "\n",
      "(1, 2, 3)\n",
      "[[[1 2 3]\n",
      "  [4 5 6]]]\n"
     ]
    }
   ],
   "source": [
    "t= np.array([[1,2,3],[4,5,6]])  #(2,3)\n",
    "print(t)\n",
    "print()\n",
    "\n",
    "print(t[:,:,np.newaxis].shape)  #맨마지막에 axis를 추가\n",
    "print(t[:,:,np.newaxis])  #2,3,1\n",
    "print()\n",
    "\n",
    "print(t[:,np.newaxis,:].shape) #2,1,3\n",
    "print(t[:,np.newaxis,:])\n",
    "print()\n",
    "\n",
    "print(t[np.newaxis,:,:].shape)  #1,2,3\n",
    "print(t[np.newaxis, :,:])"
   ]
  },
  {
   "cell_type": "markdown",
   "metadata": {},
   "source": [
    "# **Broadcasting\n",
    "Broadcasting decribs how numpy treats arrays with different shapes during arithmetic operations.Subject to certain constraints, the smaller array is \"breoadcast\" across the larger array so that they have compatible shapes."
   ]
  },
  {
   "cell_type": "code",
   "execution_count": 69,
   "metadata": {},
   "outputs": [
    {
     "data": {
      "text/plain": [
       "array([[11, 12],\n",
       "       [13, 14]])"
      ]
     },
     "execution_count": 69,
     "metadata": {},
     "output_type": "execute_result"
    }
   ],
   "source": [
    "np.array([[1,2],[3,4]])+np.array([[10]])\n",
    "#(2,2) + (1,1)"
   ]
  },
  {
   "cell_type": "code",
   "execution_count": 70,
   "metadata": {},
   "outputs": [
    {
     "data": {
      "text/plain": [
       "array([[ 11, 102],\n",
       "       [ 13, 104]])"
      ]
     },
     "execution_count": 70,
     "metadata": {},
     "output_type": "execute_result"
    }
   ],
   "source": [
    "np.array([[1,2],[3,4]])+np.array([[10,100]])\n",
    "# (2,2) + (1,2)"
   ]
  },
  {
   "cell_type": "code",
   "execution_count": 71,
   "metadata": {},
   "outputs": [
    {
     "name": "stdout",
     "output_type": "stream",
     "text": [
      "(1, 2) (2, 1)\n",
      "[[ 11  12]\n",
      " [101 102]]\n"
     ]
    }
   ],
   "source": [
    "A=np.array([[1,2]])\n",
    "B = np.array([[10],[100]])\n",
    "print(A.shape, B.shape)\n",
    "C = A+B\n",
    "print(C)"
   ]
  },
  {
   "cell_type": "code",
   "execution_count": 79,
   "metadata": {},
   "outputs": [
    {
     "name": "stdout",
     "output_type": "stream",
     "text": [
      "(3, 1)\n",
      "[[1]\n",
      " [1]\n",
      " [1]]\n",
      "\n",
      "(1, 10)\n",
      "[[0 0 0 0 0 0 0 0 0 0]]\n",
      "\n",
      "[[1 1 1 1 1 1 1 1 1 1]\n",
      " [1 1 1 1 1 1 1 1 1 1]\n",
      " [1 1 1 1 1 1 1 1 1 1]]\n"
     ]
    }
   ],
   "source": [
    "X = np.array([[1]]*3)+np.array([[0]*10])\n",
    "print(np.array([[1]]*3).shape) #axis = 0으로 3번 반복\n",
    "print(np.array([[1]]*3))\n",
    "print()\n",
    "\n",
    "print(np.array([[0]*10]).shape)  #axis = 1으로 10번 반복\n",
    "print(np.array([[0]*10]))\n",
    "print()\n",
    "\n",
    "print(X)"
   ]
  },
  {
   "cell_type": "code",
   "execution_count": 81,
   "metadata": {},
   "outputs": [
    {
     "name": "stdout",
     "output_type": "stream",
     "text": [
      "[[1]\n",
      " [2]\n",
      " [3]]\n",
      "[[1 2 3]]\n",
      "[[2 3 4]\n",
      " [3 4 5]\n",
      " [4 5 6]]\n"
     ]
    }
   ],
   "source": [
    "a = np.array([[1],[2],[3]])\n",
    "b = a.T\n",
    "print(a)\n",
    "print(b)\n",
    "print(a+b)"
   ]
  },
  {
   "cell_type": "markdown",
   "metadata": {},
   "source": [
    "## Meshgrid\n",
    "격자점 좌표를 만드는 명령어"
   ]
  },
  {
   "cell_type": "code",
   "execution_count": 82,
   "metadata": {},
   "outputs": [
    {
     "name": "stdout",
     "output_type": "stream",
     "text": [
      "[[10 20 30]\n",
      " [10 20 30]]\n",
      "[[5 5 5]\n",
      " [6 6 6]]\n",
      "[[15 25 35]\n",
      " [16 26 36]]\n"
     ]
    }
   ],
   "source": [
    "v = np.array([10,20,30])\n",
    "w = np.array([5,6])\n",
    "X,Y = np.meshgrid(v,w)\n",
    "print(X)\n",
    "print(Y)\n",
    "print(X+Y)"
   ]
  },
  {
   "cell_type": "code",
   "execution_count": 83,
   "metadata": {},
   "outputs": [
    {
     "data": {
      "text/plain": [
       "(2, 3)"
      ]
     },
     "execution_count": 83,
     "metadata": {},
     "output_type": "execute_result"
    }
   ],
   "source": [
    "x=np.array([[0,0,0], [1,1,1]])\n",
    "x.shape"
   ]
  },
  {
   "cell_type": "code",
   "execution_count": 84,
   "metadata": {},
   "outputs": [
    {
     "data": {
      "text/plain": [
       "array([1, 1, 1])"
      ]
     },
     "execution_count": 84,
     "metadata": {},
     "output_type": "execute_result"
    }
   ],
   "source": [
    "x.sum(axis=0)"
   ]
  },
  {
   "cell_type": "code",
   "execution_count": 85,
   "metadata": {},
   "outputs": [
    {
     "data": {
      "text/plain": [
       "array([0, 3])"
      ]
     },
     "execution_count": 85,
     "metadata": {},
     "output_type": "execute_result"
    }
   ],
   "source": [
    "x.sum(axis=1)"
   ]
  },
  {
   "cell_type": "code",
   "execution_count": 86,
   "metadata": {},
   "outputs": [
    {
     "data": {
      "text/plain": [
       "(2, 3, 4)"
      ]
     },
     "execution_count": 86,
     "metadata": {},
     "output_type": "execute_result"
    }
   ],
   "source": [
    "x=np.array(range(1,24+1)).reshape(2,3,4)\n",
    "x.shape"
   ]
  },
  {
   "cell_type": "code",
   "execution_count": 87,
   "metadata": {},
   "outputs": [
    {
     "data": {
      "text/plain": [
       "array([[14, 16, 18, 20],\n",
       "       [22, 24, 26, 28],\n",
       "       [30, 32, 34, 36]])"
      ]
     },
     "execution_count": 87,
     "metadata": {},
     "output_type": "execute_result"
    }
   ],
   "source": [
    "x.sum(axis=0)"
   ]
  },
  {
   "cell_type": "code",
   "execution_count": 88,
   "metadata": {},
   "outputs": [
    {
     "data": {
      "text/plain": [
       "array([[15, 18, 21, 24],\n",
       "       [51, 54, 57, 60]])"
      ]
     },
     "execution_count": 88,
     "metadata": {},
     "output_type": "execute_result"
    }
   ],
   "source": [
    "x.sum(axis=1)"
   ]
  },
  {
   "cell_type": "code",
   "execution_count": 89,
   "metadata": {},
   "outputs": [
    {
     "data": {
      "text/plain": [
       "array([[10, 26, 42],\n",
       "       [58, 74, 90]])"
      ]
     },
     "execution_count": 89,
     "metadata": {},
     "output_type": "execute_result"
    }
   ],
   "source": [
    "x.sum(axis=2)"
   ]
  },
  {
   "cell_type": "code",
   "execution_count": 92,
   "metadata": {},
   "outputs": [
    {
     "data": {
      "text/plain": [
       "array([ 78, 222])"
      ]
     },
     "execution_count": 92,
     "metadata": {},
     "output_type": "execute_result"
    }
   ],
   "source": [
    "x.sum(axis=(1,2))"
   ]
  },
  {
   "cell_type": "code",
   "execution_count": 93,
   "metadata": {},
   "outputs": [
    {
     "data": {
      "text/plain": [
       "300"
      ]
     },
     "execution_count": 93,
     "metadata": {},
     "output_type": "execute_result"
    }
   ],
   "source": [
    "x.sum(axis=(0,1,2))"
   ]
  },
  {
   "cell_type": "code",
   "execution_count": 96,
   "metadata": {},
   "outputs": [
    {
     "name": "stdout",
     "output_type": "stream",
     "text": [
      "[[6 5 4]\n",
      " [3 2 1]]\n",
      "\n",
      "[[3 2 1]\n",
      " [6 5 4]]\n",
      "\n",
      "[[4 5 6]\n",
      " [1 2 3]]\n",
      "\n",
      "[[4 5 6]\n",
      " [1 2 3]]\n",
      "\n",
      "[1 2 3 4 5 6]\n"
     ]
    }
   ],
   "source": [
    "import numpy as np\n",
    "x=np.array(np.arange(2*3,0,-1).reshape(2,3))\n",
    "print(x)\n",
    "print()\n",
    "print(np.sort(x,axis=0))\n",
    "print()\n",
    "print(np.sort(x,axis=-1))  #last axis를 기준으로 sort\n",
    "print()\n",
    "print(np.sort(x))  #default = -1\n",
    "print()\n",
    "print(np.sort(x, axis=None))"
   ]
  },
  {
   "cell_type": "code",
   "execution_count": null,
   "metadata": {},
   "outputs": [],
   "source": []
  },
  {
   "cell_type": "code",
   "execution_count": null,
   "metadata": {},
   "outputs": [],
   "source": []
  },
  {
   "cell_type": "code",
   "execution_count": null,
   "metadata": {},
   "outputs": [],
   "source": []
  },
  {
   "cell_type": "code",
   "execution_count": null,
   "metadata": {},
   "outputs": [],
   "source": []
  },
  {
   "cell_type": "code",
   "execution_count": null,
   "metadata": {},
   "outputs": [],
   "source": []
  },
  {
   "cell_type": "code",
   "execution_count": null,
   "metadata": {},
   "outputs": [],
   "source": []
  }
 ],
 "metadata": {
  "kernelspec": {
   "display_name": "Python 3",
   "language": "python",
   "name": "python3"
  },
  "language_info": {
   "codemirror_mode": {
    "name": "ipython",
    "version": 3
   },
   "file_extension": ".py",
   "mimetype": "text/x-python",
   "name": "python",
   "nbconvert_exporter": "python",
   "pygments_lexer": "ipython3",
   "version": "3.7.6"
  }
 },
 "nbformat": 4,
 "nbformat_minor": 4
}
