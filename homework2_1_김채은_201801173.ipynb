{
 "cells": [
  {
   "cell_type": "markdown",
   "metadata": {},
   "source": [
    "# Homework 2_1. Numpy and matplotlib"
   ]
  },
  {
   "cell_type": "markdown",
   "metadata": {},
   "source": [
    "***Double Click here to edit this cell***\n",
    "\n",
    "- Name: 김채은\n",
    "- Student ID: 201801173\n",
    "- Submission date: 2020.04.10"
   ]
  },
  {
   "cell_type": "markdown",
   "metadata": {},
   "source": [
    "## Remark. Use numpy wherever it is possible. \n"
   ]
  },
  {
   "cell_type": "markdown",
   "metadata": {},
   "source": [
    "## Total: 45 pts"
   ]
  },
  {
   "cell_type": "markdown",
   "metadata": {},
   "source": [
    "## Problem 1 (5 pts)\n",
    "\n",
    "- The centroid of a finite set of $\\displaystyle {k}$ points $\\displaystyle \\mathbf {x} _{1},\\mathbf {x} _{2},\\ldots ,\\mathbf {x} _{k}$ in $\\displaystyle \\mathbb {R} ^{n}$ is\n",
    "$$\n",
    "\\mathbf {C} ={\\frac {\\mathbf {x} _{1}+\\mathbf {x} _{2}+\\cdots +\\mathbf {x} _{k}}{k}}\n",
    "$$\n",
    "\n",
    "- This point minimizes the sum of squared Euclidean distances between itself and each point in the set.\n",
    "- Compute centroid\n",
    "- Plot dataset and centroid "
   ]
  },
  {
   "cell_type": "code",
   "execution_count": 1,
   "metadata": {
    "hide_input": false
   },
   "outputs": [],
   "source": [
    "%matplotlib inline\n",
    "\n",
    "import matplotlib.pyplot as plt\n",
    "import numpy as np\n",
    "\n",
    "def plot_centroid(data):\n",
    "    x=data[:,0]\n",
    "    y=data[:,1]\n",
    "    plt.scatter(x,y)\n",
    "    Xcent=x.sum()/x.shape\n",
    "    Ycent=y.sum()/y.shape\n",
    "    plt.scatter(Xcent,Ycent,marker = 's')\n",
    "    plt.show()\n",
    "\n"
   ]
  },
  {
   "cell_type": "code",
   "execution_count": 2,
   "metadata": {},
   "outputs": [
    {
     "data": {
      "image/png": "[encoded data removed]",
      "text/plain": [
       "<Figure size 432x288 with 1 Axes>"
      ]
     },
     "metadata": {
      "needs_background": "light"
     },
     "output_type": "display_data"
    }
   ],
   "source": [
    "# DO NOT EDIT THIS CELL\n",
    "np.random.seed(0)\n",
    "data = np.random.randn(10,2)\n",
    "plot_centroid(data)"
   ]
  },
  {
   "cell_type": "markdown",
   "metadata": {},
   "source": [
    "**You output must be:**\n",
    "\n",
    "<img src=\"hw2_1.png\">"
   ]
  },
  {
   "cell_type": "markdown",
   "metadata": {},
   "source": [
    "## Problem 2 (10 pts)\n",
    "\n",
    "- Let $\\textstyle x_{1},x_{2},\\cdots ,x_{n}$ be a set of $\\textstyle n$ points in a space with a distance function $d$. \n",
    "- Medoid is defined as\n",
    "$$\n",
    "x_{\\text{medoid}} = \\text{argmin}_{y \\in \\{x_1, x_2, \\cdots, x_n\\}} \\sum_{i=1}^{n}d(y, x_i)\n",
    "$$\n",
    "- Compute medoid using Euclidean distance as a distance function.\n",
    "- Plot dataset and medoid\n",
    "- *Do not use sklearn, scipy or any module computing distance matrix directly*\n",
    "- Use numpy functions only"
   ]
  },
  {
   "cell_type": "code",
   "execution_count": 3,
   "metadata": {},
   "outputs": [],
   "source": [
    "%matplotlib inline\n",
    "\n",
    "import matplotlib.pyplot as plt\n",
    "import numpy as np\n",
    "\n",
    "def plot_medoid(data):\n",
    "    x=data[:,0]\n",
    "    y=data[:,1]\n",
    "    x_variance_sqr = (np.subtract(x[:,np.newaxis],x[np.newaxis,:]))**2\n",
    "    y_variance_sqr = (np.subtract(y[:,np.newaxis],y[np.newaxis,:]))**2\n",
    "    distances = np.sqrt(np.add(x_variance_sqr,y_variance_sqr))\n",
    "    sum_of_distances = distances.sum(axis=0)\n",
    "    medoid = np.min(sum_of_distances)\n",
    "    index = np.where(sum_of_distances==medoid)\n",
    "    plt.scatter(x,y)\n",
    "    plt.scatter(x[index],y[index],marker = 's')\n",
    "    plt.show()"
   ]
  },
  {
   "cell_type": "code",
   "execution_count": 4,
   "metadata": {},
   "outputs": [
    {
     "data": {
      "image/png": "[encoded data removed]",
      "text/plain": [
       "<Figure size 432x288 with 1 Axes>"
      ]
     },
     "metadata": {
      "needs_background": "light"
     },
     "output_type": "display_data"
    }
   ],
   "source": [
    "# DO NOT EDIT THIS CELL\n",
    "np.random.seed(0)\n",
    "data = np.random.randn(10,2)\n",
    "plot_medoid(data)"
   ]
  },
  {
   "cell_type": "markdown",
   "metadata": {},
   "source": [
    "**You output must be:**\n",
    "\n",
    "<img src=\"hw2_2.png\">"
   ]
  },
  {
   "cell_type": "markdown",
   "metadata": {},
   "source": [
    "## Sample code"
   ]
  },
  {
   "cell_type": "code",
   "execution_count": 5,
   "metadata": {},
   "outputs": [
    {
     "data": {
      "image/png": "[encoded data removed]",
      "text/plain": [
       "<Figure size 432x288 with 1 Axes>"
      ]
     },
     "metadata": {
      "needs_background": "light"
     },
     "output_type": "display_data"
    }
   ],
   "source": [
    "%matplotlib inline\n",
    "\n",
    "import matplotlib.pyplot as plt\n",
    "import numpy as np\n",
    "\n",
    "def sample_code():\n",
    "    x = np.arange(10)\n",
    "    y = np.arange(10)\n",
    "    center = (0, 0)\n",
    "    radius = 10\n",
    "    plt.scatter(x, y)\n",
    "    ax = plt.gca()\n",
    "    ax.add_patch(plt.Circle(center, radius, color='r', alpha=0.2))\n",
    "    plt.axis('equal')\n",
    "    plt.show()\n",
    "    \n",
    "sample_code()"
   ]
  },
  {
   "cell_type": "markdown",
   "metadata": {},
   "source": [
    "## Problem 3 (5 pts)\n",
    "\n",
    "- We want to draw a scatter plot using **data**\n",
    "- Plot the center using a green square symbol\n",
    "- Plot points inside **radius** from center using red dots\n",
    "- Plot points out of the **radius** from center using 'C0' colored dots\n",
    "- Draw a filled circle centered at **center** using red color and alpha=0.2"
   ]
  },
  {
   "cell_type": "code",
   "execution_count": 6,
   "metadata": {},
   "outputs": [],
   "source": [
    "%matplotlib inline\n",
    "\n",
    "import matplotlib.pyplot as plt\n",
    "import numpy as np\n",
    "\n",
    "def points_within_radius(data, center, radius):\n",
    "    x=data[:,0]\n",
    "    y=data[:,1]\n",
    "    dis_from_center = np.sqrt(np.sum((data-center)**2,axis=-1))\n",
    "    inside=np.argwhere(dis_from_center<=radius).sum(axis=1)   # 원 안쪽에 위치한 점의 index찾기\n",
    "    ax = plt.gca()\n",
    "    ax.add_patch(plt.Circle(center, radius, color='r', alpha=0.2))\n",
    "    plt.axis('equal')\n",
    "    plt.scatter(x,y,color=\"C0\")\n",
    "    plt.scatter(x[inside],y[inside],color=\"r\")\n",
    "    plt.scatter(center[0],center[1],marker='s',color='g')\n",
    "    plt.show()"
   ]
  },
  {
   "cell_type": "code",
   "execution_count": 7,
   "metadata": {},
   "outputs": [
    {
     "data": {
      "image/png": "[encoded data removed]",
      "text/plain": [
       "<Figure size 432x288 with 1 Axes>"
      ]
     },
     "metadata": {
      "needs_background": "light"
     },
     "output_type": "display_data"
    }
   ],
   "source": [
    "# DO NOT EDIT THIS CELL\n",
    "np.random.seed(1)\n",
    "data = np.random.randn(10,2)\n",
    "radius = 3.0\n",
    "center = np.random.randn(2)\n",
    "points_within_radius(data, center, radius)"
   ]
  },
  {
   "cell_type": "markdown",
   "metadata": {},
   "source": [
    "**You output must be:**\n",
    "\n",
    "<img src=\"hw2_3.png\">"
   ]
  },
  {
   "cell_type": "markdown",
   "metadata": {},
   "source": [
    "## Problem 4 (10 pts)\n",
    "\n",
    "- We want to find k nearest points from the center\n",
    "- Plot the center using a green square symbol\n",
    "- Plot k-nearest points from center using red dots\n",
    "- Plot other points using 'C0' colored dots\n",
    "- Draw a filled circle centered at **center** using red color and alpha=0.2\n",
    "- *Do not use sklearn, scipy or any module computing k-nearest points directly*\n",
    "- Use numpy functions only"
   ]
  },
  {
   "cell_type": "code",
   "execution_count": 8,
   "metadata": {},
   "outputs": [],
   "source": [
    "%matplotlib inline\n",
    "\n",
    "import matplotlib.pyplot as plt\n",
    "import numpy as np\n",
    "\n",
    "def points_k_nearest(data, center, k=1):\n",
    "    x=data[:,0]\n",
    "    y=data[:,1]\n",
    "    dis_from_center = np.sqrt(np.sum((data-center)**2,axis=-1))\n",
    "    part_k=np.argpartition(dis_from_center,k)\n",
    "    k_nearest=np.argwhere(dis_from_center<=dis_from_center[part_k[k-1]]).sum(axis=-1)\n",
    "    plt.scatter(center[0],center[1],marker='s',color='g')\n",
    "    plt.scatter(x,y,color=\"C0\")\n",
    "    plt.scatter(x[k_nearest],y[k_nearest],color='r')\n",
    "    ax = plt.gca()\n",
    "    radius=dis_from_center[part_k[k-1]]\n",
    "    ax.add_patch(plt.Circle(center, radius, color='r', alpha=0.2))\n",
    "    plt.axis('equal')\n",
    "    plt.show()"
   ]
  },
  {
   "cell_type": "code",
   "execution_count": 9,
   "metadata": {},
   "outputs": [
    {
     "data": {
      "image/png": "[encoded data removed]",
      "text/plain": [
       "<Figure size 432x288 with 1 Axes>"
      ]
     },
     "metadata": {
      "needs_background": "light"
     },
     "output_type": "display_data"
    }
   ],
   "source": [
    "# DO NOT EDIT THIS CELL\n",
    "np.random.seed(1)\n",
    "data = np.random.randn(10,2)\n",
    "k = 5\n",
    "center = np.random.randn(2)\n",
    "points_k_nearest(data, center, k)"
   ]
  },
  {
   "cell_type": "markdown",
   "metadata": {},
   "source": [
    "**You output must be:**\n",
    "\n",
    "<img src=\"hw2_4.png\">"
   ]
  },
  {
   "cell_type": "code",
   "execution_count": 10,
   "metadata": {},
   "outputs": [
    {
     "data": {
      "image/png": "[encoded data removed]",
      "text/plain": [
       "<Figure size 432x288 with 1 Axes>"
      ]
     },
     "metadata": {
      "needs_background": "light"
     },
     "output_type": "display_data"
    }
   ],
   "source": [
    "# DO NOT EDIT THIS CELL\n",
    "np.random.seed(1)\n",
    "data = np.array([[1.,0.],[0.,1.],[-1.,0.],[0.,-1.],[1.,1.],[1.,-1.],[-1.,1.],[-1.,-1.]])\n",
    "np.random.shuffle(data)\n",
    "k = 1\n",
    "center = np.array([0.,0.])\n",
    "points_k_nearest(data, center, k)"
   ]
  },
  {
   "cell_type": "markdown",
   "metadata": {},
   "source": [
    "**You output must be:**\n",
    "\n",
    "<img src=\"hw2_5.png\">"
   ]
  },
  {
   "cell_type": "markdown",
   "metadata": {},
   "source": [
    "## Problem 5 (15 pts)\n",
    "\n",
    "- **find_k_nearest_index** returns the index of the k-nearest\n",
    "- We want to time the execution\n",
    "- *Do not use sklearn, scipy or any module computing k-nearest points directly*\n",
    "- Use numpy functions only\n",
    "- Points: \n",
    "    - less than or equal to 1000ms: 15 pts\n",
    "    - less than or equal to 10s: 10 pts\n",
    "    - greater than 10s: 5 pts"
   ]
  },
  {
   "cell_type": "code",
   "execution_count": 11,
   "metadata": {},
   "outputs": [],
   "source": [
    "import numpy as np\n",
    "\n",
    "def find_k_nearest_index(data, center, k=1):\n",
    "    dis_from_center = np.sqrt(np.sum((data-center)**2,axis=-1))\n",
    "    part_k=np.argpartition(dis_from_center,k)\n",
    "    k_nearest=np.argwhere(dis_from_center<=dis_from_center[part_k[k-1]]).sum(axis=-1)\n",
    "    return k_nearest"
   ]
  },
  {
   "cell_type": "code",
   "execution_count": 19,
   "metadata": {},
   "outputs": [
    {
     "name": "stdout",
     "output_type": "stream",
     "text": [
      "Wall time: 683 ms\n"
     ]
    },
    {
     "data": {
      "text/plain": [
       "array([3146213, 4362536, 6716705, 6845205, 7607470], dtype=int64)"
      ]
     },
     "execution_count": 19,
     "metadata": {},
     "output_type": "execute_result"
    }
   ],
   "source": [
    "# DO NOT EDIT THIS CELL\n",
    "np.random.seed(1)\n",
    "data = np.random.randn(10000000,2)   # 10 million data\n",
    "k = 5\n",
    "center = np.random.randn(2)\n",
    "%time find_k_nearest_index(data, center, k)"
   ]
  },
  {
   "cell_type": "markdown",
   "metadata": {},
   "source": [
    "**Your time must be around:**\n",
    "```\n",
    "Wall time: 419 ms\n",
    "```\n",
    "**You output must be:**\n",
    "```\n",
    "array([3146213, 4362536, 6716705, 6845205, 7607470])\n",
    "```"
   ]
  },
  {
   "cell_type": "markdown",
   "metadata": {},
   "source": [
    "## Ethics:\n",
    "If you cheat, you will get negatgive of the total points.\n",
    "If the homework total is 22 and you cheat, you get -22."
   ]
  },
  {
   "cell_type": "markdown",
   "metadata": {},
   "source": [
    "## What to submit\n",
    "- Run **all cells**\n",
    "- Goto \"File -> Print Preview\"\n",
    "- Print the page as pdf\n",
    "- Submit the pdf file in google classroom\n",
    "- No late homeworks accepted\n",
    "- Your homework will be graded on the basis of correctness and programming skills"
   ]
  }
 ],
 "metadata": {
  "hide_input": false,
  "kernelspec": {
   "display_name": "Python 3",
   "language": "python",
   "name": "python3"
  },
  "language_info": {
   "codemirror_mode": {
    "name": "ipython",
    "version": 3
   },
   "file_extension": ".py",
   "mimetype": "text/x-python",
   "name": "python",
   "nbconvert_exporter": "python",
   "pygments_lexer": "ipython3",
   "version": "3.7.6"
  }
 },
 "nbformat": 4,
 "nbformat_minor": 2
}
